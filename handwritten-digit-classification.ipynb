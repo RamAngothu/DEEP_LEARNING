{
 "cells": [
  {
   "cell_type": "markdown",
   "id": "5cf32c5a",
   "metadata": {
    "papermill": {
     "duration": 0.006028,
     "end_time": "2025-02-08T10:27:53.316321",
     "exception": false,
     "start_time": "2025-02-08T10:27:53.310293",
     "status": "completed"
    },
    "tags": []
   },
   "source": [
    "# loading the mnist dataset"
   ]
  },
  {
   "cell_type": "code",
   "execution_count": 1,
   "id": "667358f1",
   "metadata": {
    "execution": {
     "iopub.execute_input": "2025-02-08T10:27:53.327314Z",
     "iopub.status.busy": "2025-02-08T10:27:53.326869Z",
     "iopub.status.idle": "2025-02-08T10:27:54.468449Z",
     "shell.execute_reply": "2025-02-08T10:27:54.466949Z"
    },
    "papermill": {
     "duration": 1.149606,
     "end_time": "2025-02-08T10:27:54.470969",
     "exception": false,
     "start_time": "2025-02-08T10:27:53.321363",
     "status": "completed"
    },
    "tags": []
   },
   "outputs": [],
   "source": [
    "from scipy.io import loadmat\n",
    "mnist = loadmat(\"/kaggle/input/mnist-original/mnist-original.mat\")\n",
    "mnist_data = mnist[\"data\"].T\n",
    "mnist_label = mnist[\"label\"][0]"
   ]
  },
  {
   "cell_type": "markdown",
   "id": "406e7e70",
   "metadata": {
    "papermill": {
     "duration": 0.004316,
     "end_time": "2025-02-08T10:27:54.480636",
     "exception": false,
     "start_time": "2025-02-08T10:27:54.476320",
     "status": "completed"
    },
    "tags": []
   },
   "source": [
    "# Importing the dependencies "
   ]
  },
  {
   "cell_type": "code",
   "execution_count": 2,
   "id": "db8705fc",
   "metadata": {
    "execution": {
     "iopub.execute_input": "2025-02-08T10:27:54.491307Z",
     "iopub.status.busy": "2025-02-08T10:27:54.490784Z",
     "iopub.status.idle": "2025-02-08T10:28:07.586450Z",
     "shell.execute_reply": "2025-02-08T10:28:07.585370Z"
    },
    "papermill": {
     "duration": 13.103236,
     "end_time": "2025-02-08T10:28:07.588373",
     "exception": false,
     "start_time": "2025-02-08T10:27:54.485137",
     "status": "completed"
    },
    "tags": []
   },
   "outputs": [],
   "source": [
    "import numpy as np\n",
    "import matplotlib.pyplot as plt\n",
    "import tensorflow as tf\n",
    "from tensorflow import keras\n",
    "from tensorflow.keras.models import Sequential\n",
    "from tensorflow.keras.layers import Dense,Flatten\n",
    "from tensorflow.keras.utils import normalize"
   ]
  },
  {
   "cell_type": "markdown",
   "id": "09b3f4dd",
   "metadata": {
    "papermill": {
     "duration": 0.004125,
     "end_time": "2025-02-08T10:28:07.597042",
     "exception": false,
     "start_time": "2025-02-08T10:28:07.592917",
     "status": "completed"
    },
    "tags": []
   },
   "source": [
    "# train_test_split"
   ]
  },
  {
   "cell_type": "code",
   "execution_count": 3,
   "id": "09dfe65a",
   "metadata": {
    "execution": {
     "iopub.execute_input": "2025-02-08T10:28:07.607852Z",
     "iopub.status.busy": "2025-02-08T10:28:07.607037Z",
     "iopub.status.idle": "2025-02-08T10:28:09.053677Z",
     "shell.execute_reply": "2025-02-08T10:28:09.052333Z"
    },
    "papermill": {
     "duration": 1.454245,
     "end_time": "2025-02-08T10:28:09.055791",
     "exception": false,
     "start_time": "2025-02-08T10:28:07.601546",
     "status": "completed"
    },
    "tags": []
   },
   "outputs": [],
   "source": [
    "from sklearn.model_selection import train_test_split\n",
    "x_train,x_test,y_train,y_test = train_test_split(mnist_data,mnist_label,test_size = 0.14,random_state = 42)"
   ]
  },
  {
   "cell_type": "code",
   "execution_count": 4,
   "id": "9bd13d19",
   "metadata": {
    "execution": {
     "iopub.execute_input": "2025-02-08T10:28:09.066545Z",
     "iopub.status.busy": "2025-02-08T10:28:09.065913Z",
     "iopub.status.idle": "2025-02-08T10:28:09.073534Z",
     "shell.execute_reply": "2025-02-08T10:28:09.072314Z"
    },
    "papermill": {
     "duration": 0.014798,
     "end_time": "2025-02-08T10:28:09.075243",
     "exception": false,
     "start_time": "2025-02-08T10:28:09.060445",
     "status": "completed"
    },
    "tags": []
   },
   "outputs": [
    {
     "data": {
      "text/plain": [
       "(60199, 784)"
      ]
     },
     "execution_count": 4,
     "metadata": {},
     "output_type": "execute_result"
    }
   ],
   "source": [
    "x_train.shape"
   ]
  },
  {
   "cell_type": "code",
   "execution_count": 5,
   "id": "80487754",
   "metadata": {
    "execution": {
     "iopub.execute_input": "2025-02-08T10:28:09.086214Z",
     "iopub.status.busy": "2025-02-08T10:28:09.085807Z",
     "iopub.status.idle": "2025-02-08T10:28:09.092145Z",
     "shell.execute_reply": "2025-02-08T10:28:09.091124Z"
    },
    "papermill": {
     "duration": 0.014005,
     "end_time": "2025-02-08T10:28:09.093954",
     "exception": false,
     "start_time": "2025-02-08T10:28:09.079949",
     "status": "completed"
    },
    "tags": []
   },
   "outputs": [
    {
     "data": {
      "text/plain": [
       "(9801, 784)"
      ]
     },
     "execution_count": 5,
     "metadata": {},
     "output_type": "execute_result"
    }
   ],
   "source": [
    "x_test.shape"
   ]
  },
  {
   "cell_type": "code",
   "execution_count": 6,
   "id": "57f01f3d",
   "metadata": {
    "execution": {
     "iopub.execute_input": "2025-02-08T10:28:09.105134Z",
     "iopub.status.busy": "2025-02-08T10:28:09.104751Z",
     "iopub.status.idle": "2025-02-08T10:28:09.111416Z",
     "shell.execute_reply": "2025-02-08T10:28:09.110308Z"
    },
    "papermill": {
     "duration": 0.014529,
     "end_time": "2025-02-08T10:28:09.113416",
     "exception": false,
     "start_time": "2025-02-08T10:28:09.098887",
     "status": "completed"
    },
    "tags": []
   },
   "outputs": [
    {
     "data": {
      "text/plain": [
       "(784,)"
      ]
     },
     "execution_count": 6,
     "metadata": {},
     "output_type": "execute_result"
    }
   ],
   "source": [
    "x_train[0].shape"
   ]
  },
  {
   "cell_type": "code",
   "execution_count": 7,
   "id": "c31f6f80",
   "metadata": {
    "execution": {
     "iopub.execute_input": "2025-02-08T10:28:09.124343Z",
     "iopub.status.busy": "2025-02-08T10:28:09.123959Z",
     "iopub.status.idle": "2025-02-08T10:28:09.132168Z",
     "shell.execute_reply": "2025-02-08T10:28:09.131047Z"
    },
    "papermill": {
     "duration": 0.015875,
     "end_time": "2025-02-08T10:28:09.134180",
     "exception": false,
     "start_time": "2025-02-08T10:28:09.118305",
     "status": "completed"
    },
    "tags": []
   },
   "outputs": [
    {
     "data": {
      "text/plain": [
       "array([  0,   0,   0,   0,   0,   0,   0,   0,   0,   0,   0,   0,   0,\n",
       "         0,   0,   0,   0,   0,   0,   0,   0,   0,   0,   0,   0,   0,\n",
       "         0,   0,   0,   0,   0,   0,   0,   0,   0,   0,   0,   0,   0,\n",
       "         0,   0,   0,   0,   0,   0,   0,   0,   0,   0,   0,   0,   0,\n",
       "         0,   0,   0,   0,   0,   0,   0,   0,   0,   0,   0,   0,   0,\n",
       "         0,   0,   0,   0,   0,   0,   0,   0,   0,   0,   0,   0,   0,\n",
       "         0,   0,   0,   0,   0,   0,   0,   0,   0,   0,   0,   0,   0,\n",
       "         0,   0,   0,   0,   0,   0,   0,   0,   0,   0,   0,   0,   0,\n",
       "         0,   0,   0,   0,   0,   0,   0,   0,   0,   0,   0,   0,   0,\n",
       "         0,   0,   0,   0,   0,   0,   0,   0,   0,   0,   0,   0,   0,\n",
       "         0,   0,   0,   0,   0,   0,   0,   0,   0,   0,   0,   0,   0,\n",
       "         0,   0,   0,   0,   0,   0,   0,   0,   0,   0,   0,   0,   0,\n",
       "         0,   0,   0,   0,   0,   0,   0,   0,   0,   0,   0,   0,   0,\n",
       "         0,   0,   0,   0,   0,   0,   0,   0,   0,   0,   0,   0,  21,\n",
       "        51,  92, 173, 253, 254, 213,  62,   0,   0,   0,   0,   0,   0,\n",
       "         0,   0,   0,   0,   0,   0,   0,   0,   0,   0,   0,   0,   0,\n",
       "       163, 223, 253, 252, 253, 252, 253, 252, 223,  81,   0,   0,   0,\n",
       "         0,   0,   0,   0,   0,   0,   0,   0,   0,   0,   0,   0,   0,\n",
       "       113, 253, 254, 253, 254, 233, 102, 102, 214, 253, 255, 112,   0,\n",
       "         0,   0,   0,   0,   0,   0,   0,   0,   0,   0,   0,   0,   0,\n",
       "         0, 163, 233, 252, 253, 212,  50,  30,   0,   0, 213, 252, 253,\n",
       "        70,   0,   0,   0,   0,   0,   0,   0,   0,   0,   0,   0,   0,\n",
       "         0,   0, 113, 253, 254, 233,  82,   0,   0,   0,  11,  51, 254,\n",
       "       253, 142,   0,   0,   0,   0,   0,   0,   0,   0,   0,   0,   0,\n",
       "         0,   0,   0,  41, 233, 252, 213,  30,   0,   0,   0,   0,  51,\n",
       "       252, 253, 252, 102,   0,   0,   0,   0,   0,   0,   0,   0,   0,\n",
       "         0,   0,   0,   0,   0, 203, 254, 233,   0,   0,   0,   0,   0,\n",
       "         0, 254, 253, 254, 253,  41,   0,   0,   0,   0,   0,   0,   0,\n",
       "         0,   0,   0,   0,   0,   0,  41, 243, 253, 111,   0,   0,   0,\n",
       "         0,   0,   0, 253, 252, 253,  90,   0,   0,   0,   0,   0,   0,\n",
       "         0,   0,   0,   0,   0,   0,   0,   0,  82, 243, 254, 213, 152,\n",
       "       152, 152, 152, 254, 253, 254, 253, 224,  20,   0,   0,   0,   0,\n",
       "         0,   0,   0,   0,   0,   0,   0,   0,   0,   0,  21, 223, 253,\n",
       "       252, 253, 252, 253, 252, 253, 252, 253, 252, 162,   0,   0,   0,\n",
       "         0,   0,   0,   0,   0,   0,   0,   0,   0,   0,   0,   0,   0,\n",
       "         0, 163, 223, 254, 253, 254, 253, 224, 223, 254, 253,  41,   0,\n",
       "         0,   0,   0,   0,   0,   0,   0,   0,   0,   0,   0,   0,   0,\n",
       "         0,   0,   0,   0,  20,  50,  50,  50,  50,  41, 203, 253, 252,\n",
       "         0,   0,   0,   0,   0,   0,   0,   0,   0,   0,   0,   0,   0,\n",
       "         0,   0,   0,   0,   0,   0,   0,   0,   0,   0,   0, 193, 253,\n",
       "       254,  91,   0,   0,   0,   0,   0,   0,   0,   0,   0,   0,   0,\n",
       "         0,   0,   0,   0,   0,   0,   0,   0,   0,   0,   0,   0,   0,\n",
       "       193, 252, 172,  10,   0,   0,   0,   0,   0,   0,   0,   0,   0,\n",
       "         0,   0,   0,   0,   0,   0,   0,   0,   0,   0,   0,   0,   0,\n",
       "        11,  92, 254, 253, 163,   0,   0,   0,   0,   0,   0,   0,   0,\n",
       "         0,   0,   0,   0,   0,   0,   0,   0,   0,   0,   0,   0,   0,\n",
       "         0,   0,  10, 212, 253, 252,  82,   0,   0,   0,   0,   0,   0,\n",
       "         0,   0,   0,   0,   0,   0,   0,   0,   0,   0,   0,   0,   0,\n",
       "         0,   0,   0,   0,  51, 253, 254, 151,   0,   0,   0,   0,   0,\n",
       "         0,   0,   0,   0,   0,   0,   0,   0,   0,   0,   0,   0,   0,\n",
       "         0,   0,   0,   0,   0,   0, 132, 252, 253, 111,   0,   0,   0,\n",
       "         0,   0,   0,   0,   0,   0,   0,   0,   0,   0,   0,   0,   0,\n",
       "         0,   0,   0,   0,   0,   0,   0,  21, 254, 253, 244,  40,   0,\n",
       "         0,   0,   0,   0,   0,   0,   0,   0,   0,   0,   0,   0,   0,\n",
       "         0,   0,   0,   0,   0,   0,   0,   0,   0,  20, 213, 252, 122,\n",
       "         0,   0,   0,   0,   0,   0,   0,   0,   0,   0,   0,   0,   0,\n",
       "         0,   0,   0,   0,   0,   0,   0,   0,   0,   0,   0,   0,   0,\n",
       "         0,   0,   0,   0,   0,   0,   0,   0,   0,   0,   0,   0,   0,\n",
       "         0,   0,   0,   0,   0,   0,   0,   0,   0,   0,   0,   0,   0,\n",
       "         0,   0,   0,   0,   0,   0,   0,   0,   0,   0,   0,   0,   0,\n",
       "         0,   0,   0,   0], dtype=uint8)"
      ]
     },
     "execution_count": 7,
     "metadata": {},
     "output_type": "execute_result"
    }
   ],
   "source": [
    "x_train[0]"
   ]
  },
  {
   "cell_type": "code",
   "execution_count": 8,
   "id": "5993e342",
   "metadata": {
    "execution": {
     "iopub.execute_input": "2025-02-08T10:28:09.146212Z",
     "iopub.status.busy": "2025-02-08T10:28:09.145790Z",
     "iopub.status.idle": "2025-02-08T10:28:09.545746Z",
     "shell.execute_reply": "2025-02-08T10:28:09.544350Z"
    },
    "papermill": {
     "duration": 0.409424,
     "end_time": "2025-02-08T10:28:09.548754",
     "exception": false,
     "start_time": "2025-02-08T10:28:09.139330",
     "status": "completed"
    },
    "tags": []
   },
   "outputs": [
    {
     "data": {
      "text/plain": [
       "<matplotlib.image.AxesImage at 0x7c2c22aa3eb0>"
      ]
     },
     "execution_count": 8,
     "metadata": {},
     "output_type": "execute_result"
    },
    {
     "data": {
      "image/png": "[encoded data removed]",
      "text/plain": [
       "<Figure size 480x480 with 1 Axes>"
      ]
     },
     "metadata": {},
     "output_type": "display_data"
    }
   ],
   "source": [
    "plt.matshow(x_train[0].reshape(28,28))"
   ]
  },
  {
   "cell_type": "markdown",
   "id": "243f6125",
   "metadata": {
    "papermill": {
     "duration": 0.00501,
     "end_time": "2025-02-08T10:28:09.561540",
     "exception": false,
     "start_time": "2025-02-08T10:28:09.556530",
     "status": "completed"
    },
    "tags": []
   },
   "source": [
    "# Neural network model"
   ]
  },
  {
   "cell_type": "code",
   "execution_count": 9,
   "id": "7315f7a7",
   "metadata": {
    "execution": {
     "iopub.execute_input": "2025-02-08T10:28:09.573150Z",
     "iopub.status.busy": "2025-02-08T10:28:09.572750Z",
     "iopub.status.idle": "2025-02-08T10:28:09.583928Z",
     "shell.execute_reply": "2025-02-08T10:28:09.582795Z"
    },
    "papermill": {
     "duration": 0.019079,
     "end_time": "2025-02-08T10:28:09.585834",
     "exception": false,
     "start_time": "2025-02-08T10:28:09.566755",
     "status": "completed"
    },
    "tags": []
   },
   "outputs": [],
   "source": [
    "model = Sequential([\n",
    "    Dense(units = 128,activation = \"relu\"),\n",
    "    Dense(units = 64,activation = \"relu\"),\n",
    "    Dense(units = 10,activation = \"softmax\"),\n",
    "])"
   ]
  },
  {
   "cell_type": "markdown",
   "id": "8d8a2305",
   "metadata": {
    "papermill": {
     "duration": 0.004911,
     "end_time": "2025-02-08T10:28:09.596270",
     "exception": false,
     "start_time": "2025-02-08T10:28:09.591359",
     "status": "completed"
    },
    "tags": []
   },
   "source": [
    "# compilation"
   ]
  },
  {
   "cell_type": "code",
   "execution_count": 10,
   "id": "b8cc8a0a",
   "metadata": {
    "execution": {
     "iopub.execute_input": "2025-02-08T10:28:09.608411Z",
     "iopub.status.busy": "2025-02-08T10:28:09.607990Z",
     "iopub.status.idle": "2025-02-08T10:28:09.664301Z",
     "shell.execute_reply": "2025-02-08T10:28:09.663047Z"
    },
    "papermill": {
     "duration": 0.064644,
     "end_time": "2025-02-08T10:28:09.666209",
     "exception": false,
     "start_time": "2025-02-08T10:28:09.601565",
     "status": "completed"
    },
    "tags": []
   },
   "outputs": [],
   "source": [
    "model.compile(\n",
    "    optimizer = 'adam',\n",
    "    loss = 'sparse_categorical_crossentropy',\n",
    "    metrics = ['accuracy']\n",
    ")"
   ]
  },
  {
   "cell_type": "markdown",
   "id": "91d06734",
   "metadata": {
    "papermill": {
     "duration": 0.004986,
     "end_time": "2025-02-08T10:28:09.676586",
     "exception": false,
     "start_time": "2025-02-08T10:28:09.671600",
     "status": "completed"
    },
    "tags": []
   },
   "source": [
    "# fitting the model"
   ]
  },
  {
   "cell_type": "code",
   "execution_count": 11,
   "id": "ea831ca6",
   "metadata": {
    "execution": {
     "iopub.execute_input": "2025-02-08T10:28:09.688585Z",
     "iopub.status.busy": "2025-02-08T10:28:09.688186Z",
     "iopub.status.idle": "2025-02-08T10:33:08.771978Z",
     "shell.execute_reply": "2025-02-08T10:33:08.770813Z"
    },
    "papermill": {
     "duration": 299.09215,
     "end_time": "2025-02-08T10:33:08.774028",
     "exception": false,
     "start_time": "2025-02-08T10:28:09.681878",
     "status": "completed"
    },
    "tags": []
   },
   "outputs": [
    {
     "name": "stdout",
     "output_type": "stream",
     "text": [
      "Epoch 1/50\n",
      "\u001b[1m1882/1882\u001b[0m \u001b[32m━━━━━━━━━━━━━━━━━━━━\u001b[0m\u001b[37m\u001b[0m \u001b[1m7s\u001b[0m 3ms/step - accuracy: 0.7842 - loss: 4.5410\n",
      "Epoch 2/50\n",
      "\u001b[1m1882/1882\u001b[0m \u001b[32m━━━━━━━━━━━━━━━━━━━━\u001b[0m\u001b[37m\u001b[0m \u001b[1m6s\u001b[0m 3ms/step - accuracy: 0.9192 - loss: 0.3185\n",
      "Epoch 3/50\n",
      "\u001b[1m1882/1882\u001b[0m \u001b[32m━━━━━━━━━━━━━━━━━━━━\u001b[0m\u001b[37m\u001b[0m \u001b[1m6s\u001b[0m 3ms/step - accuracy: 0.9402 - loss: 0.2269\n",
      "Epoch 4/50\n",
      "\u001b[1m1882/1882\u001b[0m \u001b[32m━━━━━━━━━━━━━━━━━━━━\u001b[0m\u001b[37m\u001b[0m \u001b[1m6s\u001b[0m 3ms/step - accuracy: 0.9512 - loss: 0.1718\n",
      "Epoch 5/50\n",
      "\u001b[1m1882/1882\u001b[0m \u001b[32m━━━━━━━━━━━━━━━━━━━━\u001b[0m\u001b[37m\u001b[0m \u001b[1m6s\u001b[0m 3ms/step - accuracy: 0.9571 - loss: 0.1516\n",
      "Epoch 6/50\n",
      "\u001b[1m1882/1882\u001b[0m \u001b[32m━━━━━━━━━━━━━━━━━━━━\u001b[0m\u001b[37m\u001b[0m \u001b[1m6s\u001b[0m 3ms/step - accuracy: 0.9643 - loss: 0.1313\n",
      "Epoch 7/50\n",
      "\u001b[1m1882/1882\u001b[0m \u001b[32m━━━━━━━━━━━━━━━━━━━━\u001b[0m\u001b[37m\u001b[0m \u001b[1m6s\u001b[0m 3ms/step - accuracy: 0.9690 - loss: 0.1096\n",
      "Epoch 8/50\n",
      "\u001b[1m1882/1882\u001b[0m \u001b[32m━━━━━━━━━━━━━━━━━━━━\u001b[0m\u001b[37m\u001b[0m \u001b[1m6s\u001b[0m 3ms/step - accuracy: 0.9726 - loss: 0.1013\n",
      "Epoch 9/50\n",
      "\u001b[1m1882/1882\u001b[0m \u001b[32m━━━━━━━━━━━━━━━━━━━━\u001b[0m\u001b[37m\u001b[0m \u001b[1m6s\u001b[0m 3ms/step - accuracy: 0.9748 - loss: 0.0900\n",
      "Epoch 10/50\n",
      "\u001b[1m1882/1882\u001b[0m \u001b[32m━━━━━━━━━━━━━━━━━━━━\u001b[0m\u001b[37m\u001b[0m \u001b[1m6s\u001b[0m 3ms/step - accuracy: 0.9755 - loss: 0.0920\n",
      "Epoch 11/50\n",
      "\u001b[1m1882/1882\u001b[0m \u001b[32m━━━━━━━━━━━━━━━━━━━━\u001b[0m\u001b[37m\u001b[0m \u001b[1m6s\u001b[0m 3ms/step - accuracy: 0.9791 - loss: 0.0800\n",
      "Epoch 12/50\n",
      "\u001b[1m1882/1882\u001b[0m \u001b[32m━━━━━━━━━━━━━━━━━━━━\u001b[0m\u001b[37m\u001b[0m \u001b[1m6s\u001b[0m 3ms/step - accuracy: 0.9813 - loss: 0.0696\n",
      "Epoch 13/50\n",
      "\u001b[1m1882/1882\u001b[0m \u001b[32m━━━━━━━━━━━━━━━━━━━━\u001b[0m\u001b[37m\u001b[0m \u001b[1m6s\u001b[0m 3ms/step - accuracy: 0.9802 - loss: 0.0742\n",
      "Epoch 14/50\n",
      "\u001b[1m1882/1882\u001b[0m \u001b[32m━━━━━━━━━━━━━━━━━━━━\u001b[0m\u001b[37m\u001b[0m \u001b[1m6s\u001b[0m 3ms/step - accuracy: 0.9812 - loss: 0.0759\n",
      "Epoch 15/50\n",
      "\u001b[1m1882/1882\u001b[0m \u001b[32m━━━━━━━━━━━━━━━━━━━━\u001b[0m\u001b[37m\u001b[0m \u001b[1m6s\u001b[0m 3ms/step - accuracy: 0.9820 - loss: 0.0720\n",
      "Epoch 16/50\n",
      "\u001b[1m1882/1882\u001b[0m \u001b[32m━━━━━━━━━━━━━━━━━━━━\u001b[0m\u001b[37m\u001b[0m \u001b[1m6s\u001b[0m 3ms/step - accuracy: 0.9842 - loss: 0.0672\n",
      "Epoch 17/50\n",
      "\u001b[1m1882/1882\u001b[0m \u001b[32m━━━━━━━━━━━━━━━━━━━━\u001b[0m\u001b[37m\u001b[0m \u001b[1m6s\u001b[0m 3ms/step - accuracy: 0.9838 - loss: 0.0636\n",
      "Epoch 18/50\n",
      "\u001b[1m1882/1882\u001b[0m \u001b[32m━━━━━━━━━━━━━━━━━━━━\u001b[0m\u001b[37m\u001b[0m \u001b[1m6s\u001b[0m 3ms/step - accuracy: 0.9848 - loss: 0.0603\n",
      "Epoch 19/50\n",
      "\u001b[1m1882/1882\u001b[0m \u001b[32m━━━━━━━━━━━━━━━━━━━━\u001b[0m\u001b[37m\u001b[0m \u001b[1m7s\u001b[0m 4ms/step - accuracy: 0.9857 - loss: 0.0598\n",
      "Epoch 20/50\n",
      "\u001b[1m1882/1882\u001b[0m \u001b[32m━━━━━━━━━━━━━━━━━━━━\u001b[0m\u001b[37m\u001b[0m \u001b[1m7s\u001b[0m 3ms/step - accuracy: 0.9867 - loss: 0.0541\n",
      "Epoch 21/50\n",
      "\u001b[1m1882/1882\u001b[0m \u001b[32m━━━━━━━━━━━━━━━━━━━━\u001b[0m\u001b[37m\u001b[0m \u001b[1m6s\u001b[0m 3ms/step - accuracy: 0.9846 - loss: 0.0681\n",
      "Epoch 22/50\n",
      "\u001b[1m1882/1882\u001b[0m \u001b[32m━━━━━━━━━━━━━━━━━━━━\u001b[0m\u001b[37m\u001b[0m \u001b[1m6s\u001b[0m 3ms/step - accuracy: 0.9876 - loss: 0.0521\n",
      "Epoch 23/50\n",
      "\u001b[1m1882/1882\u001b[0m \u001b[32m━━━━━━━━━━━━━━━━━━━━\u001b[0m\u001b[37m\u001b[0m \u001b[1m7s\u001b[0m 3ms/step - accuracy: 0.9874 - loss: 0.0593\n",
      "Epoch 24/50\n",
      "\u001b[1m1882/1882\u001b[0m \u001b[32m━━━━━━━━━━━━━━━━━━━━\u001b[0m\u001b[37m\u001b[0m \u001b[1m7s\u001b[0m 4ms/step - accuracy: 0.9868 - loss: 0.0601\n",
      "Epoch 25/50\n",
      "\u001b[1m1882/1882\u001b[0m \u001b[32m━━━━━━━━━━━━━━━━━━━━\u001b[0m\u001b[37m\u001b[0m \u001b[1m6s\u001b[0m 3ms/step - accuracy: 0.9861 - loss: 0.0568\n",
      "Epoch 26/50\n",
      "\u001b[1m1882/1882\u001b[0m \u001b[32m━━━━━━━━━━━━━━━━━━━━\u001b[0m\u001b[37m\u001b[0m \u001b[1m6s\u001b[0m 3ms/step - accuracy: 0.9863 - loss: 0.0591\n",
      "Epoch 27/50\n",
      "\u001b[1m1882/1882\u001b[0m \u001b[32m━━━━━━━━━━━━━━━━━━━━\u001b[0m\u001b[37m\u001b[0m \u001b[1m6s\u001b[0m 3ms/step - accuracy: 0.9886 - loss: 0.0553\n",
      "Epoch 28/50\n",
      "\u001b[1m1882/1882\u001b[0m \u001b[32m━━━━━━━━━━━━━━━━━━━━\u001b[0m\u001b[37m\u001b[0m \u001b[1m6s\u001b[0m 3ms/step - accuracy: 0.9878 - loss: 0.0498\n",
      "Epoch 29/50\n",
      "\u001b[1m1882/1882\u001b[0m \u001b[32m━━━━━━━━━━━━━━━━━━━━\u001b[0m\u001b[37m\u001b[0m \u001b[1m6s\u001b[0m 3ms/step - accuracy: 0.9881 - loss: 0.0525\n",
      "Epoch 30/50\n",
      "\u001b[1m1882/1882\u001b[0m \u001b[32m━━━━━━━━━━━━━━━━━━━━\u001b[0m\u001b[37m\u001b[0m \u001b[1m6s\u001b[0m 3ms/step - accuracy: 0.9878 - loss: 0.0553\n",
      "Epoch 31/50\n",
      "\u001b[1m1882/1882\u001b[0m \u001b[32m━━━━━━━━━━━━━━━━━━━━\u001b[0m\u001b[37m\u001b[0m \u001b[1m6s\u001b[0m 3ms/step - accuracy: 0.9894 - loss: 0.0443\n",
      "Epoch 32/50\n",
      "\u001b[1m1882/1882\u001b[0m \u001b[32m━━━━━━━━━━━━━━━━━━━━\u001b[0m\u001b[37m\u001b[0m \u001b[1m6s\u001b[0m 3ms/step - accuracy: 0.9885 - loss: 0.0516\n",
      "Epoch 33/50\n",
      "\u001b[1m1882/1882\u001b[0m \u001b[32m━━━━━━━━━━━━━━━━━━━━\u001b[0m\u001b[37m\u001b[0m \u001b[1m6s\u001b[0m 3ms/step - accuracy: 0.9897 - loss: 0.0450\n",
      "Epoch 34/50\n",
      "\u001b[1m1882/1882\u001b[0m \u001b[32m━━━━━━━━━━━━━━━━━━━━\u001b[0m\u001b[37m\u001b[0m \u001b[1m6s\u001b[0m 3ms/step - accuracy: 0.9898 - loss: 0.0448\n",
      "Epoch 35/50\n",
      "\u001b[1m1882/1882\u001b[0m \u001b[32m━━━━━━━━━━━━━━━━━━━━\u001b[0m\u001b[37m\u001b[0m \u001b[1m6s\u001b[0m 3ms/step - accuracy: 0.9883 - loss: 0.0533\n",
      "Epoch 36/50\n",
      "\u001b[1m1882/1882\u001b[0m \u001b[32m━━━━━━━━━━━━━━━━━━━━\u001b[0m\u001b[37m\u001b[0m \u001b[1m6s\u001b[0m 3ms/step - accuracy: 0.9883 - loss: 0.0511\n",
      "Epoch 37/50\n",
      "\u001b[1m1882/1882\u001b[0m \u001b[32m━━━━━━━━━━━━━━━━━━━━\u001b[0m\u001b[37m\u001b[0m \u001b[1m6s\u001b[0m 3ms/step - accuracy: 0.9884 - loss: 0.0517\n",
      "Epoch 38/50\n",
      "\u001b[1m1882/1882\u001b[0m \u001b[32m━━━━━━━━━━━━━━━━━━━━\u001b[0m\u001b[37m\u001b[0m \u001b[1m6s\u001b[0m 3ms/step - accuracy: 0.9883 - loss: 0.0533\n",
      "Epoch 39/50\n",
      "\u001b[1m1882/1882\u001b[0m \u001b[32m━━━━━━━━━━━━━━━━━━━━\u001b[0m\u001b[37m\u001b[0m \u001b[1m6s\u001b[0m 3ms/step - accuracy: 0.9883 - loss: 0.0555\n",
      "Epoch 40/50\n",
      "\u001b[1m1882/1882\u001b[0m \u001b[32m━━━━━━━━━━━━━━━━━━━━\u001b[0m\u001b[37m\u001b[0m \u001b[1m6s\u001b[0m 3ms/step - accuracy: 0.9899 - loss: 0.0430\n",
      "Epoch 41/50\n",
      "\u001b[1m1882/1882\u001b[0m \u001b[32m━━━━━━━━━━━━━━━━━━━━\u001b[0m\u001b[37m\u001b[0m \u001b[1m6s\u001b[0m 3ms/step - accuracy: 0.9880 - loss: 0.0581\n",
      "Epoch 42/50\n",
      "\u001b[1m1882/1882\u001b[0m \u001b[32m━━━━━━━━━━━━━━━━━━━━\u001b[0m\u001b[37m\u001b[0m \u001b[1m6s\u001b[0m 3ms/step - accuracy: 0.9893 - loss: 0.0520\n",
      "Epoch 43/50\n",
      "\u001b[1m1882/1882\u001b[0m \u001b[32m━━━━━━━━━━━━━━━━━━━━\u001b[0m\u001b[37m\u001b[0m \u001b[1m6s\u001b[0m 3ms/step - accuracy: 0.9902 - loss: 0.0430\n",
      "Epoch 44/50\n",
      "\u001b[1m1882/1882\u001b[0m \u001b[32m━━━━━━━━━━━━━━━━━━━━\u001b[0m\u001b[37m\u001b[0m \u001b[1m6s\u001b[0m 3ms/step - accuracy: 0.9890 - loss: 0.0572\n",
      "Epoch 45/50\n",
      "\u001b[1m1882/1882\u001b[0m \u001b[32m━━━━━━━━━━━━━━━━━━━━\u001b[0m\u001b[37m\u001b[0m \u001b[1m6s\u001b[0m 3ms/step - accuracy: 0.9893 - loss: 0.0526\n",
      "Epoch 46/50\n",
      "\u001b[1m1882/1882\u001b[0m \u001b[32m━━━━━━━━━━━━━━━━━━━━\u001b[0m\u001b[37m\u001b[0m \u001b[1m6s\u001b[0m 3ms/step - accuracy: 0.9909 - loss: 0.0395\n",
      "Epoch 47/50\n",
      "\u001b[1m1882/1882\u001b[0m \u001b[32m━━━━━━━━━━━━━━━━━━━━\u001b[0m\u001b[37m\u001b[0m \u001b[1m5s\u001b[0m 3ms/step - accuracy: 0.9899 - loss: 0.0606\n",
      "Epoch 48/50\n",
      "\u001b[1m1882/1882\u001b[0m \u001b[32m━━━━━━━━━━━━━━━━━━━━\u001b[0m\u001b[37m\u001b[0m \u001b[1m6s\u001b[0m 3ms/step - accuracy: 0.9901 - loss: 0.0517\n",
      "Epoch 49/50\n",
      "\u001b[1m1882/1882\u001b[0m \u001b[32m━━━━━━━━━━━━━━━━━━━━\u001b[0m\u001b[37m\u001b[0m \u001b[1m6s\u001b[0m 3ms/step - accuracy: 0.9893 - loss: 0.0541\n",
      "Epoch 50/50\n",
      "\u001b[1m1882/1882\u001b[0m \u001b[32m━━━━━━━━━━━━━━━━━━━━\u001b[0m\u001b[37m\u001b[0m \u001b[1m6s\u001b[0m 3ms/step - accuracy: 0.9897 - loss: 0.0554\n"
     ]
    },
    {
     "data": {
      "text/plain": [
       "<keras.src.callbacks.history.History at 0x7c2c1d0163e0>"
      ]
     },
     "execution_count": 11,
     "metadata": {},
     "output_type": "execute_result"
    }
   ],
   "source": [
    "model.fit(x_train,y_train,epochs = 50,batch_size = 32)"
   ]
  },
  {
   "cell_type": "markdown",
   "id": "56a95bc3",
   "metadata": {
    "papermill": {
     "duration": 0.405365,
     "end_time": "2025-02-08T10:33:09.519803",
     "exception": false,
     "start_time": "2025-02-08T10:33:09.114438",
     "status": "completed"
    },
    "tags": []
   },
   "source": [
    "# evaluating the model"
   ]
  },
  {
   "cell_type": "code",
   "execution_count": 12,
   "id": "515f81a9",
   "metadata": {
    "execution": {
     "iopub.execute_input": "2025-02-08T10:33:10.222750Z",
     "iopub.status.busy": "2025-02-08T10:33:10.222355Z",
     "iopub.status.idle": "2025-02-08T10:33:10.963993Z",
     "shell.execute_reply": "2025-02-08T10:33:10.962843Z"
    },
    "papermill": {
     "duration": 1.090354,
     "end_time": "2025-02-08T10:33:10.965993",
     "exception": false,
     "start_time": "2025-02-08T10:33:09.875639",
     "status": "completed"
    },
    "tags": []
   },
   "outputs": [
    {
     "name": "stdout",
     "output_type": "stream",
     "text": [
      "\u001b[1m307/307\u001b[0m \u001b[32m━━━━━━━━━━━━━━━━━━━━\u001b[0m\u001b[37m\u001b[0m \u001b[1m1s\u001b[0m 2ms/step - accuracy: 0.9692 - loss: 0.3581\n",
      "test_loss:0.3732171058654785,test_accuracy:0.9705132246017456\n"
     ]
    }
   ],
   "source": [
    "test_loss,test_accuracy = model.evaluate(x_test,y_test)\n",
    "print(f\"test_loss:{test_loss},test_accuracy:{test_accuracy}\")"
   ]
  },
  {
   "cell_type": "markdown",
   "id": "8d32cc97",
   "metadata": {
    "papermill": {
     "duration": 0.396156,
     "end_time": "2025-02-08T10:33:11.711318",
     "exception": false,
     "start_time": "2025-02-08T10:33:11.315162",
     "status": "completed"
    },
    "tags": []
   },
   "source": [
    "# predictions"
   ]
  },
  {
   "cell_type": "code",
   "execution_count": 13,
   "id": "61fd4540",
   "metadata": {
    "execution": {
     "iopub.execute_input": "2025-02-08T10:33:12.380346Z",
     "iopub.status.busy": "2025-02-08T10:33:12.379932Z",
     "iopub.status.idle": "2025-02-08T10:33:12.508988Z",
     "shell.execute_reply": "2025-02-08T10:33:12.507757Z"
    },
    "papermill": {
     "duration": 0.466618,
     "end_time": "2025-02-08T10:33:12.510985",
     "exception": false,
     "start_time": "2025-02-08T10:33:12.044367",
     "status": "completed"
    },
    "tags": []
   },
   "outputs": [
    {
     "name": "stdout",
     "output_type": "stream",
     "text": [
      "\u001b[1m1/1\u001b[0m \u001b[32m━━━━━━━━━━━━━━━━━━━━\u001b[0m\u001b[37m\u001b[0m \u001b[1m0s\u001b[0m 63ms/step\n",
      "predicted labels: [7 8 6 5 7]\n",
      "true labels: [7. 8. 6. 5. 7.]\n"
     ]
    }
   ],
   "source": [
    "predictions = model.predict(x_test[:5])\n",
    "print(\"predicted labels:\",predictions.argmax(axis=1))\n",
    "print(\"true labels:\",y_test[:5])"
   ]
  },
  {
   "cell_type": "code",
   "execution_count": 14,
   "id": "3b539b68",
   "metadata": {
    "execution": {
     "iopub.execute_input": "2025-02-08T10:33:13.185842Z",
     "iopub.status.busy": "2025-02-08T10:33:13.185289Z",
     "iopub.status.idle": "2025-02-08T10:33:14.352343Z",
     "shell.execute_reply": "2025-02-08T10:33:14.351206Z"
    },
    "papermill": {
     "duration": 1.508242,
     "end_time": "2025-02-08T10:33:14.354625",
     "exception": false,
     "start_time": "2025-02-08T10:33:12.846383",
     "status": "completed"
    },
    "tags": []
   },
   "outputs": [
    {
     "data": {
      "image/png": "[encoded data removed]",
      "text/plain": [
       "<Figure size 480x480 with 1 Axes>"
      ]
     },
     "metadata": {},
     "output_type": "display_data"
    },
    {
     "data": {
      "image/png": "[encoded data removed]",
      "text/plain": [
       "<Figure size 480x480 with 1 Axes>"
      ]
     },
     "metadata": {},
     "output_type": "display_data"
    },
    {
     "data": {
      "image/png": "[encoded data removed]",
      "text/plain": [
       "<Figure size 480x480 with 1 Axes>"
      ]
     },
     "metadata": {},
     "output_type": "display_data"
    },
    {
     "data": {
      "image/png": "[encoded data removed]",
      "text/plain": [
       "<Figure size 480x480 with 1 Axes>"
      ]
     },
     "metadata": {},
     "output_type": "display_data"
    },
    {
     "data": {
      "image/png": "[encoded data removed]",
      "text/plain": [
       "<Figure size 480x480 with 1 Axes>"
      ]
     },
     "metadata": {},
     "output_type": "display_data"
    }
   ],
   "source": [
    "for i in range(5):\n",
    "    plt.matshow(x_test[i].reshape(28,28))\n",
    "    plt.title(f\"predicted:{predictions[i].argmax(axis=0)},true:{y_test[i]}\")\n",
    "    plt.show()"
   ]
  },
  {
   "cell_type": "code",
   "execution_count": 15,
   "id": "900ec392",
   "metadata": {
    "execution": {
     "iopub.execute_input": "2025-02-08T10:33:15.124195Z",
     "iopub.status.busy": "2025-02-08T10:33:15.123805Z",
     "iopub.status.idle": "2025-02-08T10:33:15.163484Z",
     "shell.execute_reply": "2025-02-08T10:33:15.162530Z"
    },
    "papermill": {
     "duration": 0.416894,
     "end_time": "2025-02-08T10:33:15.165561",
     "exception": false,
     "start_time": "2025-02-08T10:33:14.748667",
     "status": "completed"
    },
    "tags": []
   },
   "outputs": [],
   "source": [
    "model.save(\"Projects.h5\")"
   ]
  }
 ],
 "metadata": {
  "kaggle": {
   "accelerator": "none",
   "dataSources": [
    {
     "datasetId": 42853,
     "sourceId": 76002,
     "sourceType": "datasetVersion"
    }
   ],
   "dockerImageVersionId": 30822,
   "isGpuEnabled": false,
   "isInternetEnabled": false,
   "language": "python",
   "sourceType": "notebook"
  },
  "kernelspec": {
   "display_name": "Python 3",
   "language": "python",
   "name": "python3"
  },
  "language_info": {
   "codemirror_mode": {
    "name": "ipython",
    "version": 3
   },
   "file_extension": ".py",
   "mimetype": "text/x-python",
   "name": "python",
   "nbconvert_exporter": "python",
   "pygments_lexer": "ipython3",
   "version": "3.10.12"
  },
  "papermill": {
   "default_parameters": {},
   "duration": 327.282909,
   "end_time": "2025-02-08T10:33:17.219381",
   "environment_variables": {},
   "exception": null,
   "input_path": "__notebook__.ipynb",
   "output_path": "__notebook__.ipynb",
   "parameters": {},
   "start_time": "2025-02-08T10:27:49.936472",
   "version": "2.6.0"
  }
 },
 "nbformat": 4,
 "nbformat_minor": 5
}
