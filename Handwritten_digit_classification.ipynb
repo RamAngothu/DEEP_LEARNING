{
  "metadata": {
    "kernelspec": {
      "language": "python",
      "display_name": "Python 3",
      "name": "python3"
    },
    "language_info": {
      "name": "python",
      "version": "3.10.12",
      "mimetype": "text/x-python",
      "codemirror_mode": {
        "name": "ipython",
        "version": 3
      },
      "pygments_lexer": "ipython3",
      "nbconvert_exporter": "python",
      "file_extension": ".py"
    },
    "kaggle": {
      "accelerator": "none",
      "dataSources": [
        {
          "sourceId": 76002,
          "sourceType": "datasetVersion",
          "datasetId": 42853
        }
      ],
      "dockerImageVersionId": 30822,
      "isInternetEnabled": false,
      "language": "python",
      "sourceType": "notebook",
      "isGpuEnabled": false
    },
    "colab": {
      "name": "Handwritten digit classification",
      "provenance": [],
      "include_colab_link": true
    }
  },
  "nbformat_minor": 0,
  "nbformat": 4,
  "cells": [
    {
      "cell_type": "markdown",
      "metadata": {
        "id": "view-in-github",
        "colab_type": "text"
      },
      "source": [
        "<a href=\"https://colab.research.google.com/github/RamAngothu/DEEP_LEARNING/blob/main/Handwritten_digit_classification.ipynb\" target=\"_parent\"><img src=\"https://colab.research.google.com/assets/colab-badge.svg\" alt=\"Open In Colab\"/></a>"
      ]
    },
    {
      "source": [
        "# IMPORTANT: RUN THIS CELL IN ORDER TO IMPORT YOUR KAGGLE DATA SOURCES,\n",
        "# THEN FEEL FREE TO DELETE THIS CELL.\n",
        "# NOTE: THIS NOTEBOOK ENVIRONMENT DIFFERS FROM KAGGLE'S PYTHON\n",
        "# ENVIRONMENT SO THERE MAY BE MISSING LIBRARIES USED BY YOUR\n",
        "# NOTEBOOK.\n",
        "import kagglehub\n",
        "avnishnish_mnist_original_path = kagglehub.dataset_download('avnishnish/mnist-original')\n",
        "\n",
        "print('Data source import complete.')\n"
      ],
      "metadata": {
        "id": "p6lDe-R7I3-d"
      },
      "cell_type": "code",
      "outputs": [],
      "execution_count": null
    },
    {
      "cell_type": "markdown",
      "source": [
        "# loading the mnist dataset"
      ],
      "metadata": {
        "id": "YLFhF-jOI3-f"
      }
    },
    {
      "cell_type": "code",
      "source": [
        "from scipy.io import loadmat\n",
        "mnist = loadmat(\"/kaggle/input/mnist-original/mnist-original.mat\")\n",
        "mnist_data = mnist[\"data\"].T\n",
        "mnist_label = mnist[\"label\"][0]"
      ],
      "metadata": {
        "trusted": true,
        "execution": {
          "iopub.status.busy": "2025-02-08T10:05:23.82014Z",
          "iopub.execute_input": "2025-02-08T10:05:23.820511Z",
          "iopub.status.idle": "2025-02-08T10:05:23.911423Z",
          "shell.execute_reply.started": "2025-02-08T10:05:23.820482Z",
          "shell.execute_reply": "2025-02-08T10:05:23.910541Z"
        },
        "id": "Cz0aIFZJI3-h"
      },
      "outputs": [],
      "execution_count": null
    },
    {
      "cell_type": "markdown",
      "source": [
        "# Importing the dependencies"
      ],
      "metadata": {
        "id": "FmtITGP_I3-i"
      }
    },
    {
      "cell_type": "code",
      "source": [
        "import numpy as np\n",
        "import matplotlib.pyplot as plt\n",
        "import tensorflow as tf\n",
        "from tensorflow import keras\n",
        "from tensorflow.keras.models import Sequential\n",
        "from tensorflow.keras.layers import Dense,Flatten\n",
        "from tensorflow.keras.utils import normalize"
      ],
      "metadata": {
        "trusted": true,
        "execution": {
          "iopub.status.busy": "2025-02-08T10:05:23.912696Z",
          "iopub.execute_input": "2025-02-08T10:05:23.912971Z",
          "iopub.status.idle": "2025-02-08T10:05:23.918008Z",
          "shell.execute_reply.started": "2025-02-08T10:05:23.91295Z",
          "shell.execute_reply": "2025-02-08T10:05:23.916893Z"
        },
        "id": "3no78d83I3-j"
      },
      "outputs": [],
      "execution_count": null
    },
    {
      "cell_type": "markdown",
      "source": [
        "# train_test_split"
      ],
      "metadata": {
        "id": "vsl4O8iiI3-j"
      }
    },
    {
      "cell_type": "code",
      "source": [
        "from sklearn.model_selection import train_test_split\n",
        "x_train,x_test,y_train,y_test = train_test_split(mnist_data,mnist_label,test_size = 0.14,random_state = 42)"
      ],
      "metadata": {
        "trusted": true,
        "execution": {
          "iopub.status.busy": "2025-02-08T10:05:23.919911Z",
          "iopub.execute_input": "2025-02-08T10:05:23.920253Z",
          "iopub.status.idle": "2025-02-08T10:05:23.973739Z",
          "shell.execute_reply.started": "2025-02-08T10:05:23.920229Z",
          "shell.execute_reply": "2025-02-08T10:05:23.972764Z"
        },
        "id": "gnLfLum5I3-k"
      },
      "outputs": [],
      "execution_count": null
    },
    {
      "cell_type": "code",
      "source": [
        "x_train.shape"
      ],
      "metadata": {
        "trusted": true,
        "execution": {
          "iopub.status.busy": "2025-02-08T10:05:23.975287Z",
          "iopub.execute_input": "2025-02-08T10:05:23.975594Z",
          "iopub.status.idle": "2025-02-08T10:05:23.98235Z",
          "shell.execute_reply.started": "2025-02-08T10:05:23.975571Z",
          "shell.execute_reply": "2025-02-08T10:05:23.981368Z"
        },
        "id": "S0AW7Fy6I3-k"
      },
      "outputs": [],
      "execution_count": null
    },
    {
      "cell_type": "code",
      "source": [
        "x_test.shape"
      ],
      "metadata": {
        "trusted": true,
        "execution": {
          "iopub.status.busy": "2025-02-08T10:05:23.98341Z",
          "iopub.execute_input": "2025-02-08T10:05:23.983947Z",
          "iopub.status.idle": "2025-02-08T10:05:23.999348Z",
          "shell.execute_reply.started": "2025-02-08T10:05:23.983911Z",
          "shell.execute_reply": "2025-02-08T10:05:23.998221Z"
        },
        "id": "OAoeEtTrI3-l"
      },
      "outputs": [],
      "execution_count": null
    },
    {
      "cell_type": "code",
      "source": [
        "x_train[0].shape"
      ],
      "metadata": {
        "trusted": true,
        "execution": {
          "iopub.status.busy": "2025-02-08T10:05:24.000475Z",
          "iopub.execute_input": "2025-02-08T10:05:24.000836Z",
          "iopub.status.idle": "2025-02-08T10:05:24.020121Z",
          "shell.execute_reply.started": "2025-02-08T10:05:24.000811Z",
          "shell.execute_reply": "2025-02-08T10:05:24.018984Z"
        },
        "id": "EBpbiRYcI3-l"
      },
      "outputs": [],
      "execution_count": null
    },
    {
      "cell_type": "code",
      "source": [
        "x_train[0]"
      ],
      "metadata": {
        "trusted": true,
        "execution": {
          "iopub.status.busy": "2025-02-08T10:05:24.021175Z",
          "iopub.execute_input": "2025-02-08T10:05:24.021512Z",
          "iopub.status.idle": "2025-02-08T10:05:24.04342Z",
          "shell.execute_reply.started": "2025-02-08T10:05:24.021484Z",
          "shell.execute_reply": "2025-02-08T10:05:24.042221Z"
        },
        "id": "2PXXRKyFI3-l"
      },
      "outputs": [],
      "execution_count": null
    },
    {
      "cell_type": "code",
      "source": [
        "plt.matshow(x_train[0].reshape(28,28))"
      ],
      "metadata": {
        "trusted": true,
        "execution": {
          "iopub.status.busy": "2025-02-08T10:05:24.044843Z",
          "iopub.execute_input": "2025-02-08T10:05:24.045216Z",
          "iopub.status.idle": "2025-02-08T10:05:24.486447Z",
          "shell.execute_reply.started": "2025-02-08T10:05:24.045177Z",
          "shell.execute_reply": "2025-02-08T10:05:24.485331Z"
        },
        "id": "Ypj_yfeOI3-l"
      },
      "outputs": [],
      "execution_count": null
    },
    {
      "cell_type": "markdown",
      "source": [
        "# Neural network model"
      ],
      "metadata": {
        "id": "7gHVRQgNI3-m"
      }
    },
    {
      "cell_type": "code",
      "source": [
        "model = Sequential([\n",
        "    Dense(units = 128,activation = \"relu\"),\n",
        "    Dense(units = 64,activation = \"relu\"),\n",
        "    Dense(units = 10,activation = \"softmax\"),\n",
        "])"
      ],
      "metadata": {
        "trusted": true,
        "execution": {
          "iopub.status.busy": "2025-02-08T10:05:24.489115Z",
          "iopub.execute_input": "2025-02-08T10:05:24.489462Z",
          "iopub.status.idle": "2025-02-08T10:05:24.499581Z",
          "shell.execute_reply.started": "2025-02-08T10:05:24.489425Z",
          "shell.execute_reply": "2025-02-08T10:05:24.498637Z"
        },
        "id": "EPiyFcLnI3-m"
      },
      "outputs": [],
      "execution_count": null
    },
    {
      "cell_type": "markdown",
      "source": [
        "# compilation"
      ],
      "metadata": {
        "id": "VwWYXGAMI3-m"
      }
    },
    {
      "cell_type": "code",
      "source": [
        "model.compile(\n",
        "    optimizer = 'adam',\n",
        "    loss = 'sparse_categorical_crossentropy',\n",
        "    metrics = ['accuracy']\n",
        ")"
      ],
      "metadata": {
        "trusted": true,
        "execution": {
          "iopub.status.busy": "2025-02-08T10:05:24.500914Z",
          "iopub.execute_input": "2025-02-08T10:05:24.50122Z",
          "iopub.status.idle": "2025-02-08T10:05:24.564365Z",
          "shell.execute_reply.started": "2025-02-08T10:05:24.501196Z",
          "shell.execute_reply": "2025-02-08T10:05:24.563243Z"
        },
        "id": "T_JKQd8HI3-n"
      },
      "outputs": [],
      "execution_count": null
    },
    {
      "cell_type": "markdown",
      "source": [
        "# fitting the model"
      ],
      "metadata": {
        "id": "_V2bIK5AI3-n"
      }
    },
    {
      "cell_type": "code",
      "source": [
        "model.fit(x_train,y_train,epochs = 50,batch_size = 32)"
      ],
      "metadata": {
        "trusted": true,
        "execution": {
          "iopub.status.busy": "2025-02-08T10:05:24.56537Z",
          "iopub.execute_input": "2025-02-08T10:05:24.565663Z",
          "iopub.status.idle": "2025-02-08T10:09:43.860368Z",
          "shell.execute_reply.started": "2025-02-08T10:05:24.56564Z",
          "shell.execute_reply": "2025-02-08T10:09:43.859449Z"
        },
        "id": "3-VNqVxkI3-n"
      },
      "outputs": [],
      "execution_count": null
    },
    {
      "cell_type": "markdown",
      "source": [
        "# evaluating the model"
      ],
      "metadata": {
        "id": "CbjAfZcrI3-n"
      }
    },
    {
      "cell_type": "code",
      "source": [
        "test_loss,test_accuracy = model.evaluate(x_test,y_test)\n",
        "print(f\"test_loss:{test_loss},test_accuracy:{test_accuracy}\")"
      ],
      "metadata": {
        "trusted": true,
        "execution": {
          "iopub.status.busy": "2025-02-08T10:09:43.861533Z",
          "iopub.execute_input": "2025-02-08T10:09:43.861884Z",
          "iopub.status.idle": "2025-02-08T10:09:44.560404Z",
          "shell.execute_reply.started": "2025-02-08T10:09:43.861857Z",
          "shell.execute_reply": "2025-02-08T10:09:44.559344Z"
        },
        "id": "A1e4BRLpI3-n"
      },
      "outputs": [],
      "execution_count": null
    },
    {
      "cell_type": "markdown",
      "source": [
        "# predictions"
      ],
      "metadata": {
        "id": "XK24l1KxI3-n"
      }
    },
    {
      "cell_type": "code",
      "source": [
        "predictions = model.predict(x_test[:5])\n",
        "print(\"predicted labels:\",predictions.argmax(axis=1))\n",
        "print(\"true labels:\",y_test[:5])"
      ],
      "metadata": {
        "trusted": true,
        "execution": {
          "iopub.status.busy": "2025-02-08T10:09:44.561639Z",
          "iopub.execute_input": "2025-02-08T10:09:44.562026Z",
          "iopub.status.idle": "2025-02-08T10:09:44.677856Z",
          "shell.execute_reply.started": "2025-02-08T10:09:44.56199Z",
          "shell.execute_reply": "2025-02-08T10:09:44.676841Z"
        },
        "id": "knu4ArHSI3-o"
      },
      "outputs": [],
      "execution_count": null
    },
    {
      "cell_type": "code",
      "source": [
        "for i in range(5):\n",
        "    plt.matshow(x_test[i].reshape(28,28))\n",
        "    plt.title(f\"predicted:{predictions[i].argmax(axis=0)},true:{y_test[i]}\")\n",
        "    plt.show()"
      ],
      "metadata": {
        "trusted": true,
        "execution": {
          "iopub.status.busy": "2025-02-08T10:09:44.678818Z",
          "iopub.execute_input": "2025-02-08T10:09:44.679162Z",
          "iopub.status.idle": "2025-02-08T10:09:46.742252Z",
          "shell.execute_reply.started": "2025-02-08T10:09:44.679135Z",
          "shell.execute_reply": "2025-02-08T10:09:46.74038Z"
        },
        "id": "OMHDLCXwI3-o"
      },
      "outputs": [],
      "execution_count": null
    },
    {
      "cell_type": "code",
      "source": [
        "model.save(\"Projects.h5\")"
      ],
      "metadata": {
        "trusted": true,
        "execution": {
          "iopub.status.busy": "2025-02-08T10:10:04.367513Z",
          "iopub.execute_input": "2025-02-08T10:10:04.367845Z",
          "iopub.status.idle": "2025-02-08T10:10:04.39538Z",
          "shell.execute_reply.started": "2025-02-08T10:10:04.367821Z",
          "shell.execute_reply": "2025-02-08T10:10:04.39432Z"
        },
        "id": "pgVgJK0EI3-o"
      },
      "outputs": [],
      "execution_count": null
    }
  ]
}